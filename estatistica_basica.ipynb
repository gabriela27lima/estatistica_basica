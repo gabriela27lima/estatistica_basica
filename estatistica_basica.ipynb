{
 "cells": [
  {
   "cell_type": "markdown",
   "id": "dd0f5748",
   "metadata": {},
   "source": [
    "# Estatística Básica\n",
    "\n",
    "Este notebook explora conceitos fundamentais de estatística básica, incluindo média, mediana, moda, variância e desvio padrão, com exemplos práticos em Python."
   ]
  },
  {
   "cell_type": "code",
   "execution_count": 7,
   "id": "022f7bb2-391d-41a2-9ffb-3988833685fb",
   "metadata": {},
   "outputs": [],
   "source": [
    "import numpy as np\n",
    "from scipy import stats\n"
   ]
  },
  {
   "cell_type": "markdown",
   "id": "2de13f8d",
   "metadata": {},
   "source": [
    "## Média, Mediana e Moda"
   ]
  },
  {
   "cell_type": "code",
   "execution_count": 11,
   "id": "651d28d5",
   "metadata": {},
   "outputs": [
    {
     "name": "stdout",
     "output_type": "stream",
     "text": [
      "Média: 14.1\n",
      "Mediana: 12.0\n",
      "Moda: 10 com frequência 3\n"
     ]
    }
   ],
   "source": [
    "\n",
    "data = [12, 15, 12, 10, 12, 18, 20, 22, 10, 10]\n",
    "\n",
    "# Cálculo da média\n",
    "mean = np.mean(data)\n",
    "print(f'Média: {mean}')\n",
    "\n",
    "# Cálculo da mediana\n",
    "median = np.median(data)\n",
    "print(f'Mediana: {median}')\n",
    "\n",
    "# Cálculo da moda\n",
    "mode_result = stats.mode(data, keepdims=True)  # Manter o resultado como um array\n",
    "print(f'Moda: {mode_result.mode[0]} com frequência {mode_result.count[0]}')"
   ]
  },
  {
   "cell_type": "markdown",
   "id": "6991217a",
   "metadata": {},
   "source": [
    "## Variância e Desvio Padrão"
   ]
  },
  {
   "cell_type": "code",
   "execution_count": 12,
   "id": "b3b6f028",
   "metadata": {},
   "outputs": [
    {
     "name": "stdout",
     "output_type": "stream",
     "text": [
      "Variância: 17.69\n",
      "Desvio Padrão: 4.205948168962618\n"
     ]
    }
   ],
   "source": [
    "\n",
    "# Cálculo da variância\n",
    "variance = np.var(data)\n",
    "print(f'Variância: {variance}')\n",
    "\n",
    "# Cálculo do desvio padrão\n",
    "std_dev = np.std(data)\n",
    "print(f'Desvio Padrão: {std_dev}')\n"
   ]
  },
  {
   "cell_type": "markdown",
   "id": "4947e4d8",
   "metadata": {},
   "source": [
    "## Conclusão\n",
    "\n",
    "Neste notebook, revisamos os conceitos básicos de estatística e realizamos cálculos simples usando Python. Esses conceitos são fundamentais para a análise de dados e formam a base para técnicas estatísticas mais avançadas."
   ]
  }
 ],
 "metadata": {
  "kernelspec": {
   "display_name": "Python 3 (ipykernel)",
   "language": "python",
   "name": "python3"
  },
  "language_info": {
   "codemirror_mode": {
    "name": "ipython",
    "version": 3
   },
   "file_extension": ".py",
   "mimetype": "text/x-python",
   "name": "python",
   "nbconvert_exporter": "python",
   "pygments_lexer": "ipython3",
   "version": "3.12.4"
  }
 },
 "nbformat": 4,
 "nbformat_minor": 5
}
