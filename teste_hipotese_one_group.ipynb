{
 "cells": [
  {
   "cell_type": "code",
   "execution_count": 1,
   "id": "d3d5d836",
   "metadata": {
    "ExecuteTime": {
     "end_time": "2023-11-11T17:52:44.316299Z",
     "start_time": "2023-11-11T17:52:42.451279Z"
    }
   },
   "outputs": [],
   "source": [
    "import numpy as np\n",
    "import seaborn as sns\n",
    "import statsmodels.api as sm\n",
    "from scipy import stats as st\n",
    "from scipy.stats import shapiro, wilcoxon"
   ]
  },
  {
   "cell_type": "code",
   "execution_count": 3,
   "id": "9a3e788f",
   "metadata": {
    "ExecuteTime": {
     "end_time": "2023-11-11T17:52:55.985422Z",
     "start_time": "2023-11-11T17:52:55.979452Z"
    }
   },
   "outputs": [],
   "source": [
    "sns.set_theme(style=\"whitegrid\")\n"
   ]
  },
  {
   "cell_type": "markdown",
   "id": "02e2db71",
   "metadata": {},
   "source": [
    "# T-test for the mean of ONE group of scores"
   ]
  },
  {
   "cell_type": "code",
   "execution_count": 4,
   "id": "94c8d43c",
   "metadata": {
    "ExecuteTime": {
     "end_time": "2023-11-11T17:52:58.046112Z",
     "start_time": "2023-11-11T17:52:58.041127Z"
    }
   },
   "outputs": [],
   "source": [
    "#Amostra aleatória de resultado de glicemia.\n",
    "Glicemia = [106.25,103.88,94.52,90.41,102.80,100.25,93.62,100.69,104.21,107.78,104.90,103.04,\n",
    "95.06,99.04,104.13,95.65,98.55,105.62,95.29,101.42,99.48,92.93,102.97,103.92,97.67,109.36,109.78,\n",
    "94.86,95.97,112.25]\n",
    "glicemia = np.array(Glicemia)"
   ]
  },
  {
   "cell_type": "code",
   "execution_count": 5,
   "id": "25063bfb",
   "metadata": {
    "ExecuteTime": {
     "end_time": "2023-11-11T17:52:58.629808Z",
     "start_time": "2023-11-11T17:52:58.409241Z"
    },
    "scrolled": true
   },
   "outputs": [
    {
     "data": {
      "text/plain": [
       "DescribeResult(nobs=30, minmax=(90.41, 112.25), mean=100.87666666666668, variance=30.64450574712644, skewness=0.08366523888565867, kurtosis=-0.8034366912929642)"
      ]
     },
     "execution_count": 5,
     "metadata": {},
     "output_type": "execute_result"
    },
    {
     "data": {
      "image/png": "[encoded data removed]",
      "text/plain": [
       "<Figure size 432x288 with 1 Axes>"
      ]
     },
     "metadata": {},
     "output_type": "display_data"
    }
   ],
   "source": [
    "sns.histplot(glicemia, kde=True)\n",
    "st.describe(glicemia)"
   ]
  },
  {
   "cell_type": "markdown",
   "id": "44714515",
   "metadata": {},
   "source": [
    "O teste de Shapiro-Wilk avalia a hipótese nula de que os dados foram extraídos de uma distribuição normal.\n",
    "\n",
    "- **Hipótese Nula (H0):** A amostra segue uma distribuição normal.\n",
    "- **Hipótese Alternativa (H1):** A amostra não segue uma distribuição normal.\n",
    "\n",
    "Com um nível de significância de 5%, não temos evidências suficientes para rejeitar a hipótese nula. Isso sugere que a amostra pode seguir uma distribuição normal.\n"
   ]
  },
  {
   "cell_type": "code",
   "execution_count": 6,
   "id": "4cd2b4f7",
   "metadata": {
    "ExecuteTime": {
     "end_time": "2023-11-11T17:52:58.894071Z",
     "start_time": "2023-11-11T17:52:58.888088Z"
    }
   },
   "outputs": [
    {
     "data": {
      "text/plain": [
       "ShapiroResult(statistic=0.9772942662239075, pvalue=0.7499641180038452)"
      ]
     },
     "execution_count": 6,
     "metadata": {},
     "output_type": "execute_result"
    }
   ],
   "source": [
    "st.shapiro(glicemia)"
   ]
  },
  {
   "cell_type": "markdown",
   "id": "294cfad6",
   "metadata": {},
   "source": [
    "**Teste de Hipóteses para Média de Glicemia e Pré-Diabetes**\n"
   ]
  },
  {
   "cell_type": "markdown",
   "id": "e7d88c44",
   "metadata": {},
   "source": [
    "Temos como objetivo investigar se a média dos resultados de glicemia na nossa amostra sugere a presença de pré-diabetes.\\\n",
    "Aqui estão as hipóteses e o resultado do teste:\n",
    "\n",
    "- **Hipótese Nula (H0):** A média dos resultados de glicemia é igual a 100 (limiar para pré-diabetes).\n",
    "- **Hipótese Alternativa (H1):** A média dos resultados de glicemia é maior que 100, indicando pré-diabetes.\n",
    "\n",
    "Usando um nível de significância de 5%, realizamos um teste t unicaudal (à direita)."
   ]
  },
  {
   "cell_type": "code",
   "execution_count": 7,
   "id": "8f20e755",
   "metadata": {
    "ExecuteTime": {
     "end_time": "2023-11-11T17:52:59.674128Z",
     "start_time": "2023-11-11T17:52:59.670139Z"
    }
   },
   "outputs": [],
   "source": [
    "glicemia_limiar = 100"
   ]
  },
  {
   "cell_type": "code",
   "execution_count": 8,
   "id": "ec110ab5",
   "metadata": {
    "ExecuteTime": {
     "end_time": "2023-11-11T17:53:00.073067Z",
     "start_time": "2023-11-11T17:53:00.066087Z"
    }
   },
   "outputs": [
    {
     "data": {
      "text/plain": [
       "TtestResult(statistic=0.8673987871136807, pvalue=0.1964222729458271, df=29)"
      ]
     },
     "execution_count": 8,
     "metadata": {},
     "output_type": "execute_result"
    }
   ],
   "source": [
    "st.ttest_1samp(glicemia, popmean= glicemia_limiar, alternative = \"greater\") # alternative{‘two-sided’, ‘less’, ‘greater’}"
   ]
  },
  {
   "cell_type": "markdown",
   "id": "2c9df2ac",
   "metadata": {},
   "source": [
    "O resultado do teste t foi calculado como 0.867, e o p-valor associado foi 0.196. Como o p-valor é maior que 0.05, não temos evidências suficientes para rejeitar a hipótese nula. Concluímos que não há indícios significativos de que a média dos resultados de glicemia na amostra seja maior que 100, sugerindo pré-diabetes."
   ]
  },
  {
   "cell_type": "code",
   "execution_count": null,
   "id": "b851f274",
   "metadata": {},
   "outputs": [],
   "source": []
  }
 ],
 "metadata": {
  "hide_input": false,
  "kernelspec": {
   "display_name": "Python 3 (ipykernel)",
   "language": "python",
   "name": "python3"
  },
  "language_info": {
   "codemirror_mode": {
    "name": "ipython",
    "version": 3
   },
   "file_extension": ".py",
   "mimetype": "text/x-python",
   "name": "python",
   "nbconvert_exporter": "python",
   "pygments_lexer": "ipython3",
   "version": "3.9.7"
  },
  "toc": {
   "base_numbering": 1,
   "nav_menu": {},
   "number_sections": true,
   "sideBar": true,
   "skip_h1_title": false,
   "title_cell": "Table of Contents",
   "title_sidebar": "Contents",
   "toc_cell": false,
   "toc_position": {},
   "toc_section_display": true,
   "toc_window_display": false
  },
  "varInspector": {
   "cols": {
    "lenName": 16,
    "lenType": 16,
    "lenVar": 40
   },
   "kernels_config": {
    "python": {
     "delete_cmd_postfix": "",
     "delete_cmd_prefix": "del ",
     "library": "var_list.py",
     "varRefreshCmd": "print(var_dic_list())"
    },
    "r": {
     "delete_cmd_postfix": ") ",
     "delete_cmd_prefix": "rm(",
     "library": "var_list.r",
     "varRefreshCmd": "cat(var_dic_list()) "
    }
   },
   "types_to_exclude": [
    "module",
    "function",
    "builtin_function_or_method",
    "instance",
    "_Feature"
   ],
   "window_display": false
  }
 },
 "nbformat": 4,
 "nbformat_minor": 5
}
