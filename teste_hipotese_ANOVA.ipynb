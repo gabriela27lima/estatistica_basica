{
 "cells": [
  {
   "cell_type": "code",
   "execution_count": 2,
   "id": "d3d5d836",
   "metadata": {
    "ExecuteTime": {
     "end_time": "2023-11-12T10:58:17.149421Z",
     "start_time": "2023-11-12T10:58:13.035882Z"
    }
   },
   "outputs": [],
   "source": [
    "import numpy as np\n",
    "import seaborn as sns\n",
    "import matplotlib.pyplot as plt\n",
    "import statsmodels.api as sm\n",
    "from scipy import stats as st\n",
    "from scipy.stats import shapiro, wilcoxon\n"
   ]
  },
  {
   "cell_type": "code",
   "execution_count": 16,
   "id": "9a3e788f",
   "metadata": {
    "ExecuteTime": {
     "end_time": "2023-11-11T14:10:13.432862Z",
     "start_time": "2023-11-11T14:10:13.415910Z"
    }
   },
   "outputs": [],
   "source": [
    "sns.set_theme(style=\"whitegrid\")\n"
   ]
  },
  {
   "cell_type": "markdown",
   "id": "1c64129d",
   "metadata": {},
   "source": [
    "# One-way ANOVA\n",
    "A ANOVA unidirecional testa a hipótese nula de que dois ou mais grupos têm a mesma média populacional."
   ]
  },
  {
   "cell_type": "markdown",
   "id": "fd9e0a0f",
   "metadata": {},
   "source": [
    "Abaixo estão os pesos de um determinado objeto em 3 balanças diferentes. "
   ]
  },
  {
   "cell_type": "code",
   "execution_count": 4,
   "id": "80b73798",
   "metadata": {
    "ExecuteTime": {
     "end_time": "2023-11-12T10:58:33.980764Z",
     "start_time": "2023-11-12T10:58:33.976769Z"
    }
   },
   "outputs": [],
   "source": [
    "balanca_1 =[11.11,11.06,13.44,11.59,13.84,13.14,12.12,12.38,11.94,12.46,11.64,12.59,11.65,12.09,11.70,11.96,11.79,13.48]\n",
    "balanca_1 = np.array(balanca_1)"
   ]
  },
  {
   "cell_type": "code",
   "execution_count": 5,
   "id": "c6711e21",
   "metadata": {
    "ExecuteTime": {
     "end_time": "2023-11-12T10:58:34.537236Z",
     "start_time": "2023-11-12T10:58:34.532249Z"
    }
   },
   "outputs": [],
   "source": [
    "balanca_2 = [13.27,12.19,12.98,13.68,11.95,14.02,11.42,12.49,13.13,10.22,12.28,13.70,14.07,12.61,13.23,11.71,13.72,12.86]\n",
    "balanca_2 = np.array(balanca_2)"
   ]
  },
  {
   "cell_type": "code",
   "execution_count": 6,
   "id": "20b4c81d",
   "metadata": {
    "ExecuteTime": {
     "end_time": "2023-11-12T10:58:34.935468Z",
     "start_time": "2023-11-12T10:58:34.931468Z"
    }
   },
   "outputs": [],
   "source": [
    "balanca_3 = [12.25,14.44,13.89,13.28,11.80,12.74,13.51,12.85,12.44,11.78,12.62,15.98,14.76,14.03,14.88,13.64,13.26,14.72]\n",
    "balanca_3 = np.array(balanca_3)"
   ]
  },
  {
   "cell_type": "markdown",
   "id": "6787c0b5",
   "metadata": {},
   "source": [
    "**Teste ANOVA para Igualdade de Médias de Pesos na Balança**\n",
    "\n",
    "Para avaliar se as médias dos pesos deste objeto na balança são iguais, é aplicado o teste ANOVA.\n",
    "\n",
    "De acordo com a [documentação do teste ANOVA](https://docs.scipy.org/doc/scipy/reference/generated/scipy.stats.f_oneway.html#scipy.stats.f_oneway), existem pressupostos importantes que devem ser atendidos para que o valor p associado seja considerado válido.\n",
    "\n",
    "Principais pressupostos:\n",
    "\n",
    "- As amostras são independentes.\n",
    "- Cada amostra é proveniente de uma população normalmente distribuída.\n",
    "- Os desvios padrão populacionais dos grupos são todos iguais, caracterizando a homocedasticidade.\n",
    "- O comprimento de cada grupo deve ser pelo menos um e deve haver pelo menos um grupo com comprimento maior que um.\n",
    "\n",
    "\n"
   ]
  },
  {
   "cell_type": "markdown",
   "id": "c2b672e5",
   "metadata": {},
   "source": [
    "## Análise da distribuição e teste de normalidade"
   ]
  },
  {
   "cell_type": "code",
   "execution_count": 11,
   "id": "9c5ee436",
   "metadata": {
    "ExecuteTime": {
     "end_time": "2023-11-12T11:06:17.476582Z",
     "start_time": "2023-11-12T11:06:17.181370Z"
    }
   },
   "outputs": [
    {
     "data": {
      "text/plain": [
       "<AxesSubplot:ylabel='Count'>"
      ]
     },
     "execution_count": 11,
     "metadata": {},
     "output_type": "execute_result"
    },
    {
     "data": {
      "image/png": "[encoded data removed]",
      "text/plain": [
       "<Figure size 1080x360 with 3 Axes>"
      ]
     },
     "metadata": {
      "needs_background": "light"
     },
     "output_type": "display_data"
    }
   ],
   "source": [
    "ig, axs = plt.subplots(1, 3, figsize=(15, 5), sharey=True)\n",
    "\n",
    "sns.histplot(balanca_1, kde=True, color='blue', label='Balança 1', ax=axs[0])\n",
    "sns.histplot(balanca_2, kde=True, color='orange', label='Balança 2', ax=axs[1])\n",
    "sns.histplot(balanca_3, kde=True, color='green', label='Balança 3', ax=axs[2])"
   ]
  },
  {
   "cell_type": "code",
   "execution_count": 29,
   "id": "bd6ac50b",
   "metadata": {
    "ExecuteTime": {
     "end_time": "2023-11-12T11:15:41.559208Z",
     "start_time": "2023-11-12T11:15:41.555230Z"
    }
   },
   "outputs": [
    {
     "data": {
      "text/plain": [
       "ShapiroResult(statistic=0.9317678213119507, pvalue=0.20857878029346466)"
      ]
     },
     "execution_count": 29,
     "metadata": {},
     "output_type": "execute_result"
    }
   ],
   "source": [
    "st.shapiro(balanca_1)"
   ]
  },
  {
   "cell_type": "code",
   "execution_count": 30,
   "id": "2e76873b",
   "metadata": {
    "ExecuteTime": {
     "end_time": "2023-11-12T11:15:55.924701Z",
     "start_time": "2023-11-12T11:15:55.920713Z"
    }
   },
   "outputs": [
    {
     "data": {
      "text/plain": [
       "ShapiroResult(statistic=0.943810224533081, pvalue=0.3362618386745453)"
      ]
     },
     "execution_count": 30,
     "metadata": {},
     "output_type": "execute_result"
    }
   ],
   "source": [
    "st.shapiro(balanca_2)"
   ]
  },
  {
   "cell_type": "code",
   "execution_count": 31,
   "id": "6c977fac",
   "metadata": {
    "ExecuteTime": {
     "end_time": "2023-11-12T11:16:05.882092Z",
     "start_time": "2023-11-12T11:16:05.877106Z"
    }
   },
   "outputs": [
    {
     "data": {
      "text/plain": [
       "ShapiroResult(statistic=0.9693876504898071, pvalue=0.7860963344573975)"
      ]
     },
     "execution_count": 31,
     "metadata": {},
     "output_type": "execute_result"
    }
   ],
   "source": [
    "st.shapiro(balanca_3)"
   ]
  },
  {
   "cell_type": "markdown",
   "id": "c5228dcb",
   "metadata": {},
   "source": [
    "## Teste ANOVA para Igualdade de Médias de Pesos em Três Balanças"
   ]
  },
  {
   "cell_type": "markdown",
   "id": "cb668f5d",
   "metadata": {},
   "source": [
    "O objetivo deste estudo é avaliar se as médias dos pesos de um objeto em três balanças distintas são estatisticamente iguais. Vejamos as hipóteses e o resultado do teste ANOVA:\n",
    "\n",
    "- **Hipótese Nula (H0):** A média dos pesos nas três balanças é igual.\n",
    "- **Hipótese Alternativa (H1):** Pelo menos uma das médias dos pesos nas balanças é diferente."
   ]
  },
  {
   "cell_type": "code",
   "execution_count": 34,
   "id": "0b18cd36",
   "metadata": {
    "ExecuteTime": {
     "end_time": "2023-11-12T11:23:08.292119Z",
     "start_time": "2023-11-12T11:23:08.287134Z"
    }
   },
   "outputs": [
    {
     "data": {
      "text/plain": [
       "F_onewayResult(statistic=7.3150714347874475, pvalue=0.0016102899183974087)"
      ]
     },
     "execution_count": 34,
     "metadata": {},
     "output_type": "execute_result"
    }
   ],
   "source": [
    "st.f_oneway(balanca_1,balanca_2,balanca_3)"
   ]
  },
  {
   "cell_type": "markdown",
   "id": "bdeaaf40",
   "metadata": {
    "ExecuteTime": {
     "end_time": "2023-11-12T11:27:24.909412Z",
     "start_time": "2023-11-12T11:27:24.898440Z"
    }
   },
   "source": [
    "Com um nível de significância de 5%, aplicamos o teste ANOVA para examinar as diferenças nas médias dos pesos entre as balanças. O resultado do teste ANOVA foi calculado como estatística F = 7.32, com um p-valor associado de 0.0016.\n",
    "\n",
    "Com base na análise do p-valor, que é menor que 0.05, temos evidências suficientes para rejeitar a hipótese nula. Portanto, podemos concluir que há diferenças estatisticas entre pelo menos duas das médias dos pesos nas balanças. Em outras palavras, encontramos evidências para sugerir que as médias dos pesos do objeto nas três balanças são distintas."
   ]
  },
  {
   "cell_type": "markdown",
   "id": "b768cb8e",
   "metadata": {},
   "source": [
    "## Teste de Tukey para Comparação de Médias\n"
   ]
  },
  {
   "cell_type": "markdown",
   "id": "16e6c3a2",
   "metadata": {},
   "source": [
    "Após a conclusão do teste ANOVA, que indicou diferenças estatisticamente significativas nas médias dos pesos entre as balanças, aplicamos o teste de Tukey para realizar comparações múltiplas e identificar quais delas são diferentes entre si"
   ]
  },
  {
   "cell_type": "code",
   "execution_count": 36,
   "id": "f44e8348",
   "metadata": {
    "ExecuteTime": {
     "end_time": "2023-11-12T11:30:25.416218Z",
     "start_time": "2023-11-12T11:30:25.284572Z"
    }
   },
   "outputs": [
    {
     "data": {
      "image/png": "[encoded data removed]",
      "text/plain": [
       "<Figure size 432x288 with 1 Axes>"
      ]
     },
     "metadata": {
      "needs_background": "light"
     },
     "output_type": "display_data"
    }
   ],
   "source": [
    "fig, ax = plt.subplots(1, 1)\n",
    "ax.boxplot([balanca_1, balanca_2, balanca_3])\n",
    "ax.set_xticklabels([\"balanca_1\", \"balanca_2\", \"balanca_3\"]) \n",
    "ax.set_ylabel(\"mean\") \n",
    "plt.show()"
   ]
  },
  {
   "cell_type": "code",
   "execution_count": 38,
   "id": "ee8df802",
   "metadata": {
    "ExecuteTime": {
     "end_time": "2023-11-12T11:32:02.180605Z",
     "start_time": "2023-11-12T11:32:01.395525Z"
    }
   },
   "outputs": [
    {
     "name": "stdout",
     "output_type": "stream",
     "text": [
      "Tukey's HSD Pairwise Group Comparisons (95.0% Confidence Interval)\n",
      "Comparison  Statistic  p-value  Lower CI  Upper CI\n",
      " (0 - 1)     -0.531     0.260    -1.337     0.276\n",
      " (0 - 2)     -1.272     0.001    -2.078    -0.465\n",
      " (1 - 0)      0.531     0.260    -0.276     1.337\n",
      " (1 - 2)     -0.741     0.078    -1.547     0.065\n",
      " (2 - 0)      1.272     0.001     0.465     2.078\n",
      " (2 - 1)      0.741     0.078    -0.065     1.547\n",
      "\n"
     ]
    }
   ],
   "source": [
    "res = st.tukey_hsd(balanca_1, balanca_2, balanca_3)\n",
    "print(res)"
   ]
  },
  {
   "cell_type": "markdown",
   "id": "122a2c29",
   "metadata": {},
   "source": [
    "Os resultados indicam que há diferenças estatisticas nas médias de peso entre as Balanças 1 e 3."
   ]
  }
 ],
 "metadata": {
  "hide_input": false,
  "kernelspec": {
   "display_name": "Python 3 (ipykernel)",
   "language": "python",
   "name": "python3"
  },
  "language_info": {
   "codemirror_mode": {
    "name": "ipython",
    "version": 3
   },
   "file_extension": ".py",
   "mimetype": "text/x-python",
   "name": "python",
   "nbconvert_exporter": "python",
   "pygments_lexer": "ipython3",
   "version": "3.9.7"
  },
  "toc": {
   "base_numbering": 1,
   "nav_menu": {},
   "number_sections": true,
   "sideBar": true,
   "skip_h1_title": false,
   "title_cell": "Table of Contents",
   "title_sidebar": "Contents",
   "toc_cell": false,
   "toc_position": {},
   "toc_section_display": true,
   "toc_window_display": false
  },
  "varInspector": {
   "cols": {
    "lenName": 16,
    "lenType": 16,
    "lenVar": 40
   },
   "kernels_config": {
    "python": {
     "delete_cmd_postfix": "",
     "delete_cmd_prefix": "del ",
     "library": "var_list.py",
     "varRefreshCmd": "print(var_dic_list())"
    },
    "r": {
     "delete_cmd_postfix": ") ",
     "delete_cmd_prefix": "rm(",
     "library": "var_list.r",
     "varRefreshCmd": "cat(var_dic_list()) "
    }
   },
   "types_to_exclude": [
    "module",
    "function",
    "builtin_function_or_method",
    "instance",
    "_Feature"
   ],
   "window_display": false
  }
 },
 "nbformat": 4,
 "nbformat_minor": 5
}
