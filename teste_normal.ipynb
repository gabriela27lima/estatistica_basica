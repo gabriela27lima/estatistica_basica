{
 "cells": [
  {
   "cell_type": "code",
   "execution_count": 1,
   "id": "0856714f",
   "metadata": {
    "ExecuteTime": {
     "end_time": "2023-10-02T13:26:54.881149Z",
     "start_time": "2023-10-02T13:26:53.356204Z"
    }
   },
   "outputs": [],
   "source": [
    "import pandas as pd\n",
    "import numpy as np\n",
    "import seaborn as sns\n",
    "import matplotlib.pyplot as plt\n",
    "import scipy.stats as stats\n",
    "from scipy.stats import shapiro, anderson, normaltest, kstest\n",
    "import statistics as st"
   ]
  },
  {
   "cell_type": "code",
   "execution_count": 2,
   "id": "244261e4",
   "metadata": {
    "ExecuteTime": {
     "end_time": "2023-10-02T13:26:54.888731Z",
     "start_time": "2023-10-02T13:26:54.882758Z"
    }
   },
   "outputs": [],
   "source": [
    "tempo_ligacao = [12.37,13,12.11,12.18,\n",
    "11.55,12.26,12.34,12.41,\n",
    "12.36,12.23,12.05,12.52,\n",
    "12.59,12.48,12.19,12.57,\n",
    "11.55,12.34,12.09,12.53,\n",
    "12.38,12.58,12.3,12.29,\n",
    "12.51,12.09,12.29,12.44,\n",
    "12.01,13.02,12.13,12.57,\n",
    "12.16,12.22,12.39,12.32,\n",
    "12.4,12.38,12.17,12.15]\n"
   ]
  },
  {
   "cell_type": "code",
   "execution_count": 3,
   "id": "a8d495f4",
   "metadata": {
    "ExecuteTime": {
     "end_time": "2023-10-02T13:26:54.903701Z",
     "start_time": "2023-10-02T13:26:54.890727Z"
    }
   },
   "outputs": [
    {
     "data": {
      "text/plain": [
       "list"
      ]
     },
     "execution_count": 3,
     "metadata": {},
     "output_type": "execute_result"
    }
   ],
   "source": [
    "type(tempo_ligacao)"
   ]
  },
  {
   "cell_type": "code",
   "execution_count": 4,
   "id": "0eb3e639",
   "metadata": {
    "ExecuteTime": {
     "end_time": "2023-10-02T13:26:54.914675Z",
     "start_time": "2023-10-02T13:26:54.905687Z"
    }
   },
   "outputs": [
    {
     "data": {
      "text/plain": [
       "40"
      ]
     },
     "execution_count": 4,
     "metadata": {},
     "output_type": "execute_result"
    }
   ],
   "source": [
    "len(tempo_ligacao)\n"
   ]
  },
  {
   "cell_type": "markdown",
   "id": "09a967af",
   "metadata": {},
   "source": [
    "# Média, Mediana, Quartis, Variância e Desvio Padrão\n",
    "\n",
    "A análise descritiva dos dados pode ser feita utilizando pandas (eu acho mais fácil pois existe um método chamado '.describe()'). \n",
    "\n",
    "Neste caso, é necessário transformar a lista em um DataFrame utilizando o construtor: 'pd.DataFrame(tempo_ligacao, columns=['tempo_ligacao'])'.\n",
    "\n"
   ]
  },
  {
   "cell_type": "code",
   "execution_count": 5,
   "id": "4951385a",
   "metadata": {
    "ExecuteTime": {
     "end_time": "2023-10-02T13:26:54.928625Z",
     "start_time": "2023-10-02T13:26:54.918653Z"
    }
   },
   "outputs": [
    {
     "name": "stdout",
     "output_type": "stream",
     "text": [
      "Média: 12.312999999999999\n"
     ]
    }
   ],
   "source": [
    "media = np.mean(tempo_ligacao)\n",
    "\n",
    "print(\"Média:\", media)"
   ]
  },
  {
   "cell_type": "code",
   "execution_count": 6,
   "id": "080d14d7",
   "metadata": {
    "ExecuteTime": {
     "end_time": "2023-10-02T13:26:54.941591Z",
     "start_time": "2023-10-02T13:26:54.930623Z"
    }
   },
   "outputs": [
    {
     "name": "stdout",
     "output_type": "stream",
     "text": [
      "Mediana: 12.33\n"
     ]
    }
   ],
   "source": [
    "mediana = np.median(tempo_ligacao)\n",
    "\n",
    "print(\"Mediana:\", mediana)"
   ]
  },
  {
   "cell_type": "code",
   "execution_count": 7,
   "id": "78de7ab8",
   "metadata": {
    "ExecuteTime": {
     "end_time": "2023-10-02T13:26:54.955553Z",
     "start_time": "2023-10-02T13:26:54.943587Z"
    }
   },
   "outputs": [
    {
     "name": "stdout",
     "output_type": "stream",
     "text": [
      "Variância: 0.07714599999999994\n"
     ]
    }
   ],
   "source": [
    "variancia = np.var(tempo_ligacao)\n",
    "\n",
    "print(\"Variância:\", variancia)"
   ]
  },
  {
   "cell_type": "code",
   "execution_count": 8,
   "id": "ef660be7",
   "metadata": {
    "ExecuteTime": {
     "end_time": "2023-10-02T13:26:54.968520Z",
     "start_time": "2023-10-02T13:26:54.957548Z"
    }
   },
   "outputs": [
    {
     "name": "stdout",
     "output_type": "stream",
     "text": [
      "Desvio Padrão: 0.2777516876636395\n"
     ]
    }
   ],
   "source": [
    "desvio_padrao = np.std(tempo_ligacao)\n",
    "\n",
    "print(\"Desvio Padrão:\", desvio_padrao)"
   ]
  },
  {
   "cell_type": "code",
   "execution_count": 9,
   "id": "21090cb3",
   "metadata": {
    "ExecuteTime": {
     "end_time": "2023-10-02T13:26:54.981495Z",
     "start_time": "2023-10-02T13:26:54.970513Z"
    }
   },
   "outputs": [
    {
     "data": {
      "text/plain": [
       "[12.162500000000001, 12.33, 12.469999999999999]"
      ]
     },
     "execution_count": 9,
     "metadata": {},
     "output_type": "execute_result"
    }
   ],
   "source": [
    "st.quantiles(tempo_ligacao, n=4) #Usei a biblioteta Statistics pq é mais fácil, no numpy precisa descrever um por um. rs"
   ]
  },
  {
   "cell_type": "markdown",
   "id": "82d2b168",
   "metadata": {},
   "source": [
    "# Assimetria\n",
    "\n",
    "- **Resultado Próximo a Zero:**\n",
    "  - Dados normalmente distribuídos.\n",
    "\n",
    "- **Valor > 0:**\n",
    "  - Assimetria positiva. A cauda da distribuição está mais para a direita.\\\n",
    "moda < mediana < média.\n",
    "\n",
    "- **Valor < 0:**\n",
    "  - Assimetria negativa. A cauda da distribuição está mais para a esquerda.\\\n",
    "média < mediana < moda.\n"
   ]
  },
  {
   "cell_type": "code",
   "execution_count": 10,
   "id": "bcf9b2bb",
   "metadata": {
    "ExecuteTime": {
     "end_time": "2023-10-02T13:26:54.997442Z",
     "start_time": "2023-10-02T13:26:54.985479Z"
    }
   },
   "outputs": [
    {
     "data": {
      "text/plain": [
       "-0.23264995406865138"
      ]
     },
     "execution_count": 10,
     "metadata": {},
     "output_type": "execute_result"
    }
   ],
   "source": [
    "#assimetria\n",
    "stats.skew(tempo_ligacao)"
   ]
  },
  {
   "cell_type": "markdown",
   "id": "fdbc8770",
   "metadata": {},
   "source": [
    "# Curtose\n",
    "\n",
    "- **Valor = 0:**\n",
    "  - Distribuição mesocúrtica.\n",
    "\n",
    "- **Valor > 0:**\n",
    "  - Distribuição leptocúrtica (curva mais pontuda).\n",
    "\n",
    "- **Valor < 0:**\n",
    "  - Distribuição platicúrtica (curva mais achatada).\n",
    "\n",
    "Quanto mais achatado, maior variabilidade dos dados."
   ]
  },
  {
   "cell_type": "code",
   "execution_count": 11,
   "id": "90156ff6",
   "metadata": {
    "ExecuteTime": {
     "end_time": "2023-10-02T13:26:55.011404Z",
     "start_time": "2023-10-02T13:26:54.999437Z"
    }
   },
   "outputs": [
    {
     "data": {
      "text/plain": [
       "2.0419949296404107"
      ]
     },
     "execution_count": 11,
     "metadata": {},
     "output_type": "execute_result"
    }
   ],
   "source": [
    "stats.kurtosis(tempo_ligacao)\n"
   ]
  },
  {
   "cell_type": "markdown",
   "id": "8323ee32",
   "metadata": {},
   "source": [
    "# Plot com Gráfico Q-Q, Histograma, Box-Plot e Teste de Normalidade"
   ]
  },
  {
   "cell_type": "code",
   "execution_count": 12,
   "id": "1954ebfe",
   "metadata": {
    "ExecuteTime": {
     "end_time": "2023-10-02T13:26:55.022375Z",
     "start_time": "2023-10-02T13:26:55.013399Z"
    }
   },
   "outputs": [],
   "source": [
    "def plotar_teste_normal(df, nome_df):\n",
    "    fig, (ax1, ax2, ax3) = plt.subplots(1, 3, figsize=(15, 5))\n",
    "\n",
    "    # Plotar gráfico Q-Q\n",
    "    stats.probplot(df, dist='norm', plot=ax1)\n",
    "    ax1.set_title('Gráfico Q-Q')\n",
    "\n",
    "    # Plotar histograma com densidade\n",
    "    sns.histplot(df, ax=ax2, kde=True)\n",
    "    ax2.set_title('Histograma com Densidade')\n",
    "\n",
    "    # Plotar boxplot\n",
    "    sns.boxplot(y=df, ax=ax3)\n",
    "    ax3.set_title('Boxplot')\n",
    "\n",
    "    # Adicionar o título com base no nome do DataFrame\n",
    "    fig.suptitle(f\"Análise Descritiva: {nome_df}\", fontsize=16)\n",
    "\n",
    "    plt.tight_layout()\n",
    "    plt.show()"
   ]
  },
  {
   "cell_type": "code",
   "execution_count": 13,
   "id": "1a9b6e2b",
   "metadata": {
    "ExecuteTime": {
     "end_time": "2023-10-02T13:26:55.449237Z",
     "start_time": "2023-10-02T13:26:55.024370Z"
    }
   },
   "outputs": [
    {
     "data": {
      "image/png": "[encoded data removed]",
      "text/plain": [
       "<Figure size 1080x360 with 3 Axes>"
      ]
     },
     "metadata": {
      "needs_background": "light"
     },
     "output_type": "display_data"
    }
   ],
   "source": [
    "plotar_teste_normal(tempo_ligacao, \"Tempo de Ligação\")"
   ]
  },
  {
   "cell_type": "markdown",
   "id": "818f95b7",
   "metadata": {},
   "source": [
    "O teste de Shapiro-Wilk é preferível a utilização em amostras pequenas (n > 50?), já o teste de D’Agostino-Pearson foi desenvolvido para lidar com amostras mais numerosas (n > 100)."
   ]
  },
  {
   "cell_type": "markdown",
   "id": "5ebe135c",
   "metadata": {},
   "source": [
    "# Teste de Normalidade"
   ]
  },
  {
   "cell_type": "markdown",
   "id": "43b7dba6",
   "metadata": {},
   "source": [
    "O teste de normalidade é importante na estatística para verificar se uma amostra de dados segue uma distribuição normal, pois irá direcionar o melhor método estatístico para análise. Os principais tipos de teste de normalidade incluem o teste de Shapiro-Wilk, D’Agostino-Pearson e Kolmogorov-Smirnov."
   ]
  },
  {
   "cell_type": "markdown",
   "id": "7239c63f",
   "metadata": {},
   "source": [
    "O teste de Shapiro-Wilk é preferido para amostras pequenas, enquanto D'Agostino-Pearson é útil para amostras maiores e mais complexas (n > 100). O teste de Kolmogorov-Smirnov é uma opção geral para verificar a adequação a qualquer distribuição teórica."
   ]
  },
  {
   "cell_type": "code",
   "execution_count": 14,
   "id": "faa58a1a",
   "metadata": {
    "ExecuteTime": {
     "end_time": "2023-10-02T13:26:55.460211Z",
     "start_time": "2023-10-02T13:26:55.454224Z"
    }
   },
   "outputs": [
    {
     "name": "stdout",
     "output_type": "stream",
     "text": [
      "Teste de Shapiro-Wilk: Estatística = 0.9223750829696655, P-valor = 0.00915326178073883\n"
     ]
    }
   ],
   "source": [
    "# Teste de Shapiro-Wilk\n",
    "stat_shapiro, p_valor_shapiro = shapiro(tempo_ligacao)\n",
    "print(f'Teste de Shapiro-Wilk: Estatística = {stat_shapiro}, P-valor = {p_valor_shapiro}')"
   ]
  },
  {
   "cell_type": "code",
   "execution_count": 15,
   "id": "ea6e963b",
   "metadata": {
    "ExecuteTime": {
     "end_time": "2023-10-02T13:26:55.476167Z",
     "start_time": "2023-10-02T13:26:55.462212Z"
    }
   },
   "outputs": [
    {
     "name": "stdout",
     "output_type": "stream",
     "text": [
      "Teste de D’Agostino-Pearson: Estatística = 5.902427783890157, P-valor = 0.05227620974753422\n"
     ]
    }
   ],
   "source": [
    "# Teste de D’Agostino-Pearson\n",
    "stat_dagostino, p_valor_dagostino = normaltest(tempo_ligacao)\n",
    "print(f'Teste de D’Agostino-Pearson: Estatística = {stat_dagostino}, P-valor = {p_valor_dagostino}')"
   ]
  },
  {
   "cell_type": "code",
   "execution_count": 16,
   "id": "5738581f",
   "metadata": {
    "ExecuteTime": {
     "end_time": "2023-10-02T13:26:55.488147Z",
     "start_time": "2023-10-02T13:26:55.479157Z"
    }
   },
   "outputs": [
    {
     "name": "stdout",
     "output_type": "stream",
     "text": [
      "Teste de Kolmogorov-Smirnov: Estatística = 1.0, P-valor = 0.0\n"
     ]
    }
   ],
   "source": [
    "# Teste de Kolmogorov-Smirnov\n",
    "stat_ks, p_valor_ks = kstest(tempo_ligacao, 'norm')\n",
    "print(f'Teste de Kolmogorov-Smirnov: Estatística = {stat_ks}, P-valor = {p_valor_ks}')"
   ]
  },
  {
   "cell_type": "markdown",
   "id": "41d8f103",
   "metadata": {},
   "source": [
    "## Decisão Estatística:\n",
    "\n",
    "- **Se** valor < Nível de Significância:\\\n",
    "  **Rejeitar H0:** Conclui-se que os dados não seguem uma distribuição normal.\n",
    "  \n",
    "\n",
    "- **Se** valor > Nível de Significância:\\\n",
    "  **Não Rejeitar H0:** Não há evidência suficiente para concluir que os dados não seguem uma distribuição normal.\n"
   ]
  },
  {
   "cell_type": "markdown",
   "id": "607c69d5",
   "metadata": {
    "ExecuteTime": {
     "end_time": "2023-10-02T13:28:13.416453Z",
     "start_time": "2023-10-02T13:28:13.410470Z"
    }
   },
   "source": [
    "Dado que temos uma amostra com n = 40, o método estatístico mais apropriado é o teste de Shapiro-Wilk. A rejeição da hipótese nula sugere que os dados não seguem uma distribuição normal."
   ]
  },
  {
   "cell_type": "code",
   "execution_count": null,
   "id": "d116e019",
   "metadata": {},
   "outputs": [],
   "source": []
  }
 ],
 "metadata": {
  "hide_input": false,
  "kernelspec": {
   "display_name": "Python 3 (ipykernel)",
   "language": "python",
   "name": "python3"
  },
  "language_info": {
   "codemirror_mode": {
    "name": "ipython",
    "version": 3
   },
   "file_extension": ".py",
   "mimetype": "text/x-python",
   "name": "python",
   "nbconvert_exporter": "python",
   "pygments_lexer": "ipython3",
   "version": "3.9.7"
  },
  "toc": {
   "base_numbering": 1,
   "nav_menu": {},
   "number_sections": true,
   "sideBar": true,
   "skip_h1_title": false,
   "title_cell": "Table of Contents",
   "title_sidebar": "Contents",
   "toc_cell": false,
   "toc_position": {},
   "toc_section_display": true,
   "toc_window_display": false
  },
  "varInspector": {
   "cols": {
    "lenName": 16,
    "lenType": 16,
    "lenVar": 40
   },
   "kernels_config": {
    "python": {
     "delete_cmd_postfix": "",
     "delete_cmd_prefix": "del ",
     "library": "var_list.py",
     "varRefreshCmd": "print(var_dic_list())"
    },
    "r": {
     "delete_cmd_postfix": ") ",
     "delete_cmd_prefix": "rm(",
     "library": "var_list.r",
     "varRefreshCmd": "cat(var_dic_list()) "
    }
   },
   "types_to_exclude": [
    "module",
    "function",
    "builtin_function_or_method",
    "instance",
    "_Feature"
   ],
   "window_display": false
  }
 },
 "nbformat": 4,
 "nbformat_minor": 5
}
