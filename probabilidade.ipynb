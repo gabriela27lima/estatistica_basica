{
 "cells": [
  {
   "cell_type": "markdown",
   "id": "d663fd33",
   "metadata": {},
   "source": [
    "# Cálculos de Probabilidades\n",
    "\n"
   ]
  },
  {
   "cell_type": "markdown",
   "id": "58b3db5e",
   "metadata": {},
   "source": [
    "## Questão 1: Probabilidade Condicional (Doença Crônica)\n",
    "Uma clínica possui dois tipos de pacientes: 70% são pacientes com doenças crônicas e 30% são pacientes com doenças agudas.\n",
    "Sabe-se que 80% dos pacientes com doenças crônicas precisam de internação, enquanto 40% dos pacientes com doenças agudas também precisam de internação. Se um paciente foi internado, qual a probabilidade de que ele tenha uma doença crônica?"
   ]
  },
  {
   "cell_type": "code",
   "execution_count": 1,
   "id": "4f68916d",
   "metadata": {},
   "outputs": [
    {
     "data": {
      "text/plain": [
       "(0.6799999999999999, 0.8235294117647058)"
      ]
     },
     "execution_count": 1,
     "metadata": {},
     "output_type": "execute_result"
    }
   ],
   "source": [
    "\n",
    "# Dados do problema\n",
    "P_cronico = 0.7\n",
    "P_agudo = 0.3\n",
    "P_internacao_cronico = 0.8\n",
    "P_internacao_agudo = 0.4\n",
    "\n",
    "# Probabilidade de internação\n",
    "P_internacao = (P_cronico * P_internacao_cronico) + (P_agudo * P_internacao_agudo)\n",
    "\n",
    "# Probabilidade condicional de ser crônico dado que houve internação\n",
    "P_cronico_internado = (P_cronico * P_internacao_cronico) / P_internacao\n",
    "\n",
    "P_internacao, P_cronico_internado\n"
   ]
  },
  {
   "cell_type": "markdown",
   "id": "06e55465",
   "metadata": {},
   "source": [
    "## Questão 2: Teorema de Bayes (Doença rara)\n",
    "Em uma triagem médica, 5% dos pacientes realmente têm uma doença rara. O teste utilizado tem uma taxa de falso positivo de 2% e uma taxa de falso negativo de 10%. Se o teste de um paciente der positivo, qual a probabilidade de que ele realmente tenha a doença?"
   ]
  },
  {
   "cell_type": "code",
   "execution_count": 2,
   "id": "cf1f080e",
   "metadata": {},
   "outputs": [
    {
     "data": {
      "text/plain": [
       "0.7031250000000001"
      ]
     },
     "execution_count": 2,
     "metadata": {},
     "output_type": "execute_result"
    }
   ],
   "source": [
    "\n",
    "# Dados do problema\n",
    "P_doenca = 0.05\n",
    "P_nao_doenca = 0.95\n",
    "P_pos_doenca = 0.9\n",
    "P_pos_nao_doenca = 0.02\n",
    "\n",
    "# Aplicação do Teorema de Bayes\n",
    "P_doenca_pos = (P_pos_doenca * P_doenca) / ((P_pos_doenca * P_doenca) + (P_pos_nao_doenca * P_nao_doenca))\n",
    "P_doenca_pos\n"
   ]
  },
  {
   "cell_type": "markdown",
   "id": "25579627",
   "metadata": {},
   "source": [
    "## Questão 3: Distribuição Binomial (Recuperação de Pacientes)\n",
    "Suponha que, em um hospital, 60% dos pacientes que se submetem a uma cirurgia se recuperam sem complicações.\n",
    "Se 8 pacientes forem submetidos à cirurgia, qual a probabilidade de que exatamente 6 se recuperem sem complicações?"
   ]
  },
  {
   "cell_type": "code",
   "execution_count": 3,
   "id": "cdd61699",
   "metadata": {},
   "outputs": [
    {
     "data": {
      "text/plain": [
       "0.20901888"
      ]
     },
     "execution_count": 3,
     "metadata": {},
     "output_type": "execute_result"
    }
   ],
   "source": [
    "\n",
    "from math import comb\n",
    "\n",
    "# Dados do problema\n",
    "n = 8  # Número de pacientes\n",
    "k = 6  # Número de recuperações desejadas\n",
    "p = 0.6  # Probabilidade de recuperação sem complicações\n",
    "\n",
    "# Cálculo da probabilidade usando a fórmula binomial\n",
    "P_k_recuperacao = comb(n, k) * (p**k) * ((1-p)**(n-k))\n",
    "P_k_recuperacao\n"
   ]
  },
  {
   "cell_type": "markdown",
   "id": "f89cd508",
   "metadata": {},
   "source": [
    "## Questão 4: Distribuição Poisson (Pacientes de Emergência)\n",
    "Um hospital recebe uma média de 3 pacientes de emergência por hora.\n",
    "Qual a probabilidade de que, em uma hora, o hospital receba exatamente 5 pacientes de emergência?"
   ]
  },
  {
   "cell_type": "code",
   "execution_count": 4,
   "id": "e4b5d21e",
   "metadata": {},
   "outputs": [
    {
     "data": {
      "text/plain": [
       "0.10081881344492448"
      ]
     },
     "execution_count": 4,
     "metadata": {},
     "output_type": "execute_result"
    }
   ],
   "source": [
    "\n",
    "from math import exp, factorial\n",
    "\n",
    "# Dados do problema\n",
    "lambd = 3  # Média de pacientes por hora\n",
    "k = 5  # Número de pacientes desejados\n",
    "\n",
    "# Fórmula da distribuição Poisson\n",
    "P_k_pacientes = (lambd**k * exp(-lambd)) / factorial(k)\n",
    "P_k_pacientes\n"
   ]
  },
  {
   "cell_type": "markdown",
   "id": "a93fc3b4",
   "metadata": {},
   "source": [
    "## Questão 5: Intervalo de Confiança para uma Proporção (Recuperação)\n",
    "Em uma amostra de 150 pacientes, 90 se recuperaram após o tratamento.\n",
    "Construa um intervalo de confiança de 95% para a proporção de recuperação na população."
   ]
  },
  {
   "cell_type": "code",
   "execution_count": 5,
   "id": "82e39fab",
   "metadata": {},
   "outputs": [
    {
     "data": {
      "text/plain": [
       "(0.5216014406183979, 0.6783985593816021)"
      ]
     },
     "execution_count": 5,
     "metadata": {},
     "output_type": "execute_result"
    }
   ],
   "source": [
    "\n",
    "from scipy import stats\n",
    "import numpy as np\n",
    "\n",
    "# Dados do problema\n",
    "n = 150  # Número de pacientes\n",
    "sucesso = 90  # Número de recuperações\n",
    "alpha = 0.05  # 95% de confiança\n",
    "\n",
    "p_hat = sucesso / n  # Proporção amostral\n",
    "z = stats.norm.ppf(1 - alpha/2)  # Valor z para 95% de confiança\n",
    "erro_padrao = np.sqrt(p_hat * (1 - p_hat) / n)\n",
    "\n",
    "# Intervalo de confiança\n",
    "intervalo_inferior = p_hat - z * erro_padrao\n",
    "intervalo_superior = p_hat + z * erro_padrao\n",
    "\n",
    "(intervalo_inferior, intervalo_superior)\n"
   ]
  }
 ],
 "metadata": {
  "kernelspec": {
   "display_name": "Python 3 (ipykernel)",
   "language": "python",
   "name": "python3"
  },
  "language_info": {
   "codemirror_mode": {
    "name": "ipython",
    "version": 3
   },
   "file_extension": ".py",
   "mimetype": "text/x-python",
   "name": "python",
   "nbconvert_exporter": "python",
   "pygments_lexer": "ipython3",
   "version": "3.10.9"
  }
 },
 "nbformat": 4,
 "nbformat_minor": 5
}
