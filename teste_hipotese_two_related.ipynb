{
 "cells": [
  {
   "cell_type": "code",
   "execution_count": 1,
   "id": "d3d5d836",
   "metadata": {
    "ExecuteTime": {
     "end_time": "2023-11-12T00:52:09.043809Z",
     "start_time": "2023-11-12T00:52:04.448463Z"
    }
   },
   "outputs": [],
   "source": [
    "import numpy as np\n",
    "import seaborn as sns\n",
    "from scipy import stats as st\n",
    "from scipy.stats import shapiro, wilcoxon\n",
    "from scipy.stats import ttest_rel"
   ]
  },
  {
   "cell_type": "code",
   "execution_count": 2,
   "id": "9a3e788f",
   "metadata": {
    "ExecuteTime": {
     "end_time": "2023-11-12T00:52:09.816897Z",
     "start_time": "2023-11-12T00:52:09.812908Z"
    }
   },
   "outputs": [],
   "source": [
    "sns.set_theme(style=\"whitegrid\")"
   ]
  },
  {
   "cell_type": "markdown",
   "id": "500cc4ae",
   "metadata": {},
   "source": [
    "#  T-test on TWO RELATED samples of scores, a and b."
   ]
  },
  {
   "cell_type": "markdown",
   "id": "dad29c92",
   "metadata": {},
   "source": [
    "##  Dados do peso corporal antes e depois de uma dieta."
   ]
  },
  {
   "cell_type": "code",
   "execution_count": 3,
   "id": "ba07577c",
   "metadata": {
    "ExecuteTime": {
     "end_time": "2023-11-12T00:52:12.585253Z",
     "start_time": "2023-11-12T00:52:12.581264Z"
    }
   },
   "outputs": [],
   "source": [
    "Antes=[88.6,86,91.2,78.8,90.9,74.1,78,96,99.8,84.2,79.2,98.5,92.1,71.1,72,94,92.9,87.1,83.5,86.4,75.9,79.4]\n",
    "antes_dieta = np.array(Antes)"
   ]
  },
  {
   "cell_type": "code",
   "execution_count": 4,
   "id": "47db8dd9",
   "metadata": {
    "ExecuteTime": {
     "end_time": "2023-11-12T00:52:13.142552Z",
     "start_time": "2023-11-12T00:52:13.137566Z"
    }
   },
   "outputs": [],
   "source": [
    "Depois =[81.2,78,100.7,87.4,76.3,81.9,73.2,83,78.8,92.1,80.2,90.9,90.7,76.4,81.6,78,84.5,83.1,81,73.4,89.5,85.2]\n",
    "depois_dieta = np.array(Depois)\n"
   ]
  },
  {
   "cell_type": "markdown",
   "id": "db50052a",
   "metadata": {},
   "source": [
    "## Análise da distribuição dos dados e teste de normalidade"
   ]
  },
  {
   "cell_type": "code",
   "execution_count": 5,
   "id": "950892cb",
   "metadata": {
    "ExecuteTime": {
     "end_time": "2023-11-12T00:52:14.390150Z",
     "start_time": "2023-11-12T00:52:14.187885Z"
    }
   },
   "outputs": [
    {
     "data": {
      "text/plain": [
       "DescribeResult(nobs=22, minmax=(71.1, 99.8), mean=85.4409090909091, variance=72.59872294372296, skewness=-0.06218024914247774, kurtosis=-1.0673200830788598)"
      ]
     },
     "execution_count": 5,
     "metadata": {},
     "output_type": "execute_result"
    },
    {
     "data": {
      "image/png": "[encoded data removed]",
      "text/plain": [
       "<Figure size 432x288 with 1 Axes>"
      ]
     },
     "metadata": {},
     "output_type": "display_data"
    }
   ],
   "source": [
    "sns.histplot(antes_dieta, kde=True)\n",
    "st.describe(antes_dieta)"
   ]
  },
  {
   "cell_type": "code",
   "execution_count": 6,
   "id": "00c341a2",
   "metadata": {
    "ExecuteTime": {
     "end_time": "2023-11-12T00:52:15.372845Z",
     "start_time": "2023-11-12T00:52:15.237207Z"
    }
   },
   "outputs": [
    {
     "data": {
      "text/plain": [
       "DescribeResult(nobs=22, minmax=(73.2, 100.7), mean=83.05000000000001, variance=45.19023809523811, skewness=0.7543493028300597, kurtosis=0.34513530728417186)"
      ]
     },
     "execution_count": 6,
     "metadata": {},
     "output_type": "execute_result"
    },
    {
     "data": {
      "image/png": "[encoded data removed]",
      "text/plain": [
       "<Figure size 432x288 with 1 Axes>"
      ]
     },
     "metadata": {},
     "output_type": "display_data"
    }
   ],
   "source": [
    "sns.histplot(depois_dieta, kde=True)\n",
    "st.describe(depois_dieta)"
   ]
  },
  {
   "cell_type": "code",
   "execution_count": 7,
   "id": "e05a9462",
   "metadata": {
    "ExecuteTime": {
     "end_time": "2023-11-12T00:52:16.025344Z",
     "start_time": "2023-11-12T00:52:16.020356Z"
    }
   },
   "outputs": [
    {
     "data": {
      "text/plain": [
       "ShapiroResult(statistic=0.9660077095031738, pvalue=0.6191020607948303)"
      ]
     },
     "execution_count": 7,
     "metadata": {},
     "output_type": "execute_result"
    }
   ],
   "source": [
    "st.shapiro(antes_dieta)"
   ]
  },
  {
   "cell_type": "code",
   "execution_count": 8,
   "id": "88b566bd",
   "metadata": {
    "ExecuteTime": {
     "end_time": "2023-11-12T00:52:16.715428Z",
     "start_time": "2023-11-12T00:52:16.711453Z"
    }
   },
   "outputs": [
    {
     "data": {
      "text/plain": [
       "ShapiroResult(statistic=0.9497779011726379, pvalue=0.31265711784362793)"
      ]
     },
     "execution_count": 8,
     "metadata": {},
     "output_type": "execute_result"
    }
   ],
   "source": [
    "st.shapiro(depois_dieta)"
   ]
  },
  {
   "cell_type": "markdown",
   "id": "6bd72672",
   "metadata": {},
   "source": [
    "## Teste de Hipótese para Avaliar o Impacto da Dieta no Peso Corporal\n",
    "\n",
    "**Hipótese Nula (H0):** A média do peso corporal antes e depois da implementação da dieta é a mesma.\\\n",
    "**Hipótese Alternativa (H1):** Há uma diferença estatisticamente significativa na média do peso corporal antes e depois da implementação da dieta\n"
   ]
  },
  {
   "cell_type": "code",
   "execution_count": 10,
   "id": "c99cb98b",
   "metadata": {
    "ExecuteTime": {
     "end_time": "2023-11-12T00:52:28.216088Z",
     "start_time": "2023-11-12T00:52:28.209105Z"
    }
   },
   "outputs": [
    {
     "data": {
      "text/plain": [
       "TtestResult(statistic=1.1366834823526915, pvalue=0.2684756800813329, df=21)"
      ]
     },
     "execution_count": 10,
     "metadata": {},
     "output_type": "execute_result"
    }
   ],
   "source": [
    "#Com base na análise desta amostra, não conseguimos inferir que houve diferença.\n",
    "st.ttest_rel(antes_dieta, depois_dieta, axis=0, nan_policy='propagate', alternative='two-sided', keepdims=False)"
   ]
  },
  {
   "cell_type": "markdown",
   "id": "cb35c19a",
   "metadata": {},
   "source": [
    "Com base nos resultados do teste t, não há evidências suficientes para afirmar que há uma diferença estatisticamente significativa entre os pesos antes e depois da intervenção (dieta). Isso significa que, ao nível de significância de 0.05, não podemos rejeitar a hipótese nula de que não há diferença nas médias de peso antes e depois da intervenção."
   ]
  }
 ],
 "metadata": {
  "hide_input": false,
  "kernelspec": {
   "display_name": "Python 3 (ipykernel)",
   "language": "python",
   "name": "python3"
  },
  "language_info": {
   "codemirror_mode": {
    "name": "ipython",
    "version": 3
   },
   "file_extension": ".py",
   "mimetype": "text/x-python",
   "name": "python",
   "nbconvert_exporter": "python",
   "pygments_lexer": "ipython3",
   "version": "3.9.7"
  },
  "toc": {
   "base_numbering": 1,
   "nav_menu": {},
   "number_sections": true,
   "sideBar": true,
   "skip_h1_title": false,
   "title_cell": "Table of Contents",
   "title_sidebar": "Contents",
   "toc_cell": false,
   "toc_position": {},
   "toc_section_display": true,
   "toc_window_display": false
  },
  "varInspector": {
   "cols": {
    "lenName": 16,
    "lenType": 16,
    "lenVar": 40
   },
   "kernels_config": {
    "python": {
     "delete_cmd_postfix": "",
     "delete_cmd_prefix": "del ",
     "library": "var_list.py",
     "varRefreshCmd": "print(var_dic_list())"
    },
    "r": {
     "delete_cmd_postfix": ") ",
     "delete_cmd_prefix": "rm(",
     "library": "var_list.r",
     "varRefreshCmd": "cat(var_dic_list()) "
    }
   },
   "types_to_exclude": [
    "module",
    "function",
    "builtin_function_or_method",
    "instance",
    "_Feature"
   ],
   "window_display": false
  }
 },
 "nbformat": 4,
 "nbformat_minor": 5
}
